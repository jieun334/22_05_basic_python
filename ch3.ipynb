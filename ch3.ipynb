{
  "nbformat": 4,
  "nbformat_minor": 0,
  "metadata": {
    "colab": {
      "provenance": [],
      "authorship_tag": "ABX9TyOBvC3zOQzrlonboZmb+RVF",
      "include_colab_link": true
    },
    "kernelspec": {
      "name": "python3",
      "display_name": "Python 3"
    },
    "language_info": {
      "name": "python"
    }
  },
  "cells": [
    {
      "cell_type": "markdown",
      "metadata": {
        "id": "view-in-github",
        "colab_type": "text"
      },
      "source": [
        "<a href=\"https://colab.research.google.com/github/jieun334/22_05_basic_python/blob/main/ch3.ipynb\" target=\"_parent\"><img src=\"https://colab.research.google.com/assets/colab-badge.svg\" alt=\"Open In Colab\"/></a>"
      ]
    },
    {
      "cell_type": "code",
      "execution_count": null,
      "metadata": {
        "id": "5HaFTTeUNid4"
      },
      "outputs": [],
      "source": []
    },
    {
      "cell_type": "code",
      "source": [
        "x = 10 \n",
        "print(\"x=\", x)\n",
        "x = 3.14\n",
        "print(\"x=\", x)\n",
        "x = \"Hello World!\"\n",
        "print(\"x=\",x)"
      ],
      "metadata": {
        "colab": {
          "base_uri": "https://localhost:8080/"
        },
        "id": "sUmtiAC6Nj4S",
        "outputId": "a8ccb834-0e84-4fad-a851-0222d0407350"
      },
      "execution_count": 1,
      "outputs": [
        {
          "output_type": "stream",
          "name": "stdout",
          "text": [
            "x= 10\n",
            "x= 3.14\n",
            "x= Hello World!\n"
          ]
        }
      ]
    },
    {
      "cell_type": "code",
      "source": [
        "x = input(\"정수를 입력하시오.\")\n",
        "y = input(\"정수를 입력하시오.\")\n",
        "print(x+y)"
      ],
      "metadata": {
        "colab": {
          "base_uri": "https://localhost:8080/"
        },
        "id": "YbYBezXvSpDK",
        "outputId": "b936335a-134c-4de1-d3db-504c8379129f"
      },
      "execution_count": 3,
      "outputs": [
        {
          "output_type": "stream",
          "name": "stdout",
          "text": [
            "정수를 입력하시오.100\n",
            "정수를 입력하시오.200\n",
            "100200\n"
          ]
        }
      ]
    },
    {
      "cell_type": "code",
      "source": [
        "x = int(input(\"정수를 입력하시오.\"))\n",
        "y = int(input(\"정수를 입력하시오.\"))\n",
        "print(x+y)"
      ],
      "metadata": {
        "colab": {
          "base_uri": "https://localhost:8080/"
        },
        "id": "TQo_KmafTjTN",
        "outputId": "600e9844-8496-4552-afab-014d429a7c2d"
      },
      "execution_count": 5,
      "outputs": [
        {
          "output_type": "stream",
          "name": "stdout",
          "text": [
            "정수를 입력하시오.100\n",
            "정수를 입력하시오.200\n",
            "300\n"
          ]
        }
      ]
    },
    {
      "cell_type": "code",
      "source": [
        "t = input(\"정수를 입력하시오.\")\n",
        "x = int(t)\n",
        "\n",
        "t = input(\"정수를 입력하시오.\")\n",
        "y = int(t)\n",
        "\n",
        "print(x+y)"
      ],
      "metadata": {
        "colab": {
          "base_uri": "https://localhost:8080/"
        },
        "id": "dEE_jPOFU795",
        "outputId": "332bd23a-85b2-4a28-d02d-0d7178c8cd64"
      },
      "execution_count": 6,
      "outputs": [
        {
          "output_type": "stream",
          "name": "stdout",
          "text": [
            "정수를 입력하시오.100\n",
            "정수를 입력하시오.200\n",
            "300\n"
          ]
        }
      ]
    }
  ]
}